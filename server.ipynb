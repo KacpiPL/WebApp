{
 "cells": [
  {
   "cell_type": "code",
   "execution_count": 1,
   "id": "b6d2780a",
   "metadata": {},
   "outputs": [
    {
     "name": "stderr",
     "output_type": "stream",
     "text": [
      "Bottle v0.12.23 server starting up (using WSGIRefServer())...\n",
      "Listening on http://localhost:63700/\n",
      "Hit Ctrl-C to quit.\n",
      "\n",
      "127.0.0.1 - - [19/Dec/2022 00:45:25] \"GET /login HTTP/1.1\" 200 953\n",
      "127.0.0.1 - - [19/Dec/2022 00:45:25] \"GET /static/css/style.css HTTP/1.1\" 304 0\n",
      "127.0.0.1 - - [19/Dec/2022 00:45:27] \"GET / HTTP/1.1\" 200 355\n",
      "127.0.0.1 - - [19/Dec/2022 00:45:28] \"GET /login HTTP/1.1\" 200 953\n",
      "127.0.0.1 - - [19/Dec/2022 00:45:29] \"GET /register1 HTTP/1.1\" 200 1812\n",
      "127.0.0.1 - - [19/Dec/2022 00:45:35] \"GET /login HTTP/1.1\" 200 953\n",
      "127.0.0.1 - - [19/Dec/2022 00:45:35] \"GET /static/css/style.css HTTP/1.1\" 304 0\n",
      "127.0.0.1 - - [19/Dec/2022 00:45:37] \"GET /register1 HTTP/1.1\" 200 1812\n",
      "127.0.0.1 - - [19/Dec/2022 00:45:43] \"GET /login HTTP/1.1\" 200 953\n",
      "127.0.0.1 - - [19/Dec/2022 00:45:43] \"GET /static/css/style.css HTTP/1.1\" 304 0\n",
      "127.0.0.1 - - [19/Dec/2022 00:45:44] \"GET /register1 HTTP/1.1\" 200 1812\n",
      "127.0.0.1 - - [19/Dec/2022 00:45:46] \"GET /login HTTP/1.1\" 200 953\n",
      "127.0.0.1 - - [19/Dec/2022 00:45:51] \"GET /register1 HTTP/1.1\" 200 1812\n",
      "127.0.0.1 - - [19/Dec/2022 00:45:51] \"GET /static/css/style.css HTTP/1.1\" 304 0\n"
     ]
    }
   ],
   "source": [
    "from bottle import Bottle, route, run, template, get, post, debug, static_file, request, redirect, response\n",
    "import time\n",
    "import random\n",
    "import string\n",
    "import logging\n",
    "import logging.handlers\n",
    "import sqlite3\n",
    "\n",
    "log = logging.getLogger('bottle')\n",
    "log.setLevel('INFO')\n",
    "h = logging.handlers.TimedRotatingFileHandler(\n",
    "    'logs/nlog', when='midnight', backupCount=9999)\n",
    "f = logging.Formatter('%(asctime)s %(levelname)-8s %(message)s')\n",
    "h.setFormatter(f)\n",
    "log.addHandler(h)\n",
    "\n",
    "app = Bottle()\n",
    "\n",
    "@app.route('/static/:path#.+#', name='static')\n",
    "def static(path):\n",
    "    return static_file(path, root='./static')\n",
    "\n",
    "@app.route('/')\n",
    "@app.route('/index/')\n",
    "def index():\n",
    "    return template('index')\n",
    "\n",
    "@app.route('/login')\n",
    "def login():\n",
    "    return template('login')\n",
    "\n",
    "@app.route('/register1')\n",
    "def register():\n",
    "    return template('register1')\n",
    "\n",
    "app.run(host='localhost', port=63700, reloader=False, debug=False)"
   ]
  },
  {
   "attachments": {},
   "cell_type": "markdown",
   "id": "fb817a07",
   "metadata": {},
   "source": [
    "Function to login, from example 06_WebappExtra"
   ]
  },
  {
   "cell_type": "code",
   "execution_count": null,
   "id": "f965af02",
   "metadata": {},
   "outputs": [],
   "source": [
    "def CheckIfCorrectCredentials(loginName,password):\n",
    "\n",
    "    conn = sqlite3.connect('testdb2.db')\n",
    "\n",
    "    c = conn.cursor()\n",
    "\n",
    "    params=[loginName,password]\n",
    "    c.execute(\"Select * from users where loginName==? and password==?\",params)\n",
    "    print(\"\\nPresent all data in student table:\")\n",
    "\n",
    "    #Get all results,assign them to the list,fecthall() returns empty list if no results\n",
    "    listOfResults=c.fetchall()\n",
    "\n",
    "    # Save (commit) the changes\n",
    "    conn.commit()\n",
    "\n",
    "    # We close the connection and free all resources\n",
    "    conn.close()\n",
    "    \n",
    "    # If given loginName and password exist in database then exactly one row should be returned.\n",
    "    # We assume that loginNames are unique.\n",
    "    if (len(listOfResults)==1):\n",
    "        return True\n",
    "    return False"
   ]
  },
  {
   "cell_type": "code",
   "execution_count": null,
   "id": "f8d0e1f0",
   "metadata": {},
   "outputs": [],
   "source": [
    "@app.route('/')\n",
    "@app.route('/login/')\n",
    "@app.route('/login', method='POST')\n",
    "def login():\n",
    "    loginName = request.forms.get('login_name', default=False)\n",
    "    password = request.forms.get('password', default=False)\n",
    "\n",
    "    log.info(str(loginName) + ' ' + request.method + ' ' +\n",
    "             request.url + ' ' + request.environ.get('REMOTE_ADDR'))\n",
    "\n",
    "    if (CheckIfCorrectCredentials(loginName,password)==True):  \n",
    "        redirect('/index')\n",
    "        return True\n",
    "    else:\n",
    "        return template('login')\n",
    "    return template('login')"
   ]
  }
 ],
 "metadata": {
  "kernelspec": {
   "display_name": "Python 3",
   "language": "python",
   "name": "python3"
  },
  "language_info": {
   "codemirror_mode": {
    "name": "ipython",
    "version": 3
   },
   "file_extension": ".py",
   "mimetype": "text/x-python",
   "name": "python",
   "nbconvert_exporter": "python",
   "pygments_lexer": "ipython3",
   "version": "3.11.1"
  },
  "vscode": {
   "interpreter": {
    "hash": "787dbc41d029badb7c8fde338a028e69a5a0a5f2bbeef06cdd82685a8000723d"
   }
  }
 },
 "nbformat": 4,
 "nbformat_minor": 5
}
